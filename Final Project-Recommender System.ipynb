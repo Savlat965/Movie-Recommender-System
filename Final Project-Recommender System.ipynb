{
 "cells": [
  {
   "cell_type": "markdown",
   "id": "a961eb37-fc8c-480c-b21a-920fc2a72f6b",
   "metadata": {},
   "source": [
    "# Group Project - Recommender System "
   ]
  },
  {
   "cell_type": "markdown",
   "id": "74e3c89c-d433-420c-894d-032153dc4783",
   "metadata": {},
   "source": [
    "### Install package"
   ]
  },
  {
   "cell_type": "code",
   "execution_count": null,
   "id": "854355fb-3308-450b-a732-29a8ae8b6e7f",
   "metadata": {},
   "outputs": [],
   "source": [
    "#pip install rake_nltk --upgrade"
   ]
  },
  {
   "cell_type": "code",
   "execution_count": null,
   "id": "6526cd43-2750-4092-97e7-a6e6185c47bc",
   "metadata": {},
   "outputs": [],
   "source": [
    "#pip install opencv-python"
   ]
  },
  {
   "cell_type": "code",
   "execution_count": null,
   "id": "0982cf31-3220-4cda-bb90-edc6c97e54fe",
   "metadata": {},
   "outputs": [],
   "source": [
    "#pip install wordcloud"
   ]
  },
  {
   "cell_type": "code",
   "execution_count": null,
   "id": "b2894267-cf40-4788-b26b-9c5721728838",
   "metadata": {},
   "outputs": [],
   "source": [
    "import pandas as pd\n",
    "import numpy as np\n",
    "import re\n",
    "import string\n",
    "import nltk\n",
    "from pprint import PrettyPrinter\n",
    "import matplotlib.pyplot as plt\n",
    "import seaborn as sns\n",
    "import warnings\n",
    "warnings.filterwarnings(\"ignore\", category=RuntimeWarning)\n",
    "from wordcloud import WordCloud\n",
    "from scipy.sparse import csr_matrix\n",
    "from sklearn.neighbors import NearestNeighbors\n",
    "from sklearn.decomposition import TruncatedSVD\n",
    "from sklearn.feature_extraction.text import CountVectorizer\n",
    "from sklearn.feature_extraction.text import TfidfVectorizer\n",
    "from sklearn.metrics.pairwise import cosine_similarity\n",
    "\n",
    "\n",
    "# Abstract Syntax Trees (ast) - https://docs.python.org/3/library/ast.html\n",
    "# The ast module helps Python applications to process trees of the Python abstract syntax grammar\n",
    "import ast                     # To convert the string of list to list\n",
    "import nltk\n",
    "from nltk.tokenize import word_tokenize\n",
    "from nltk.corpus import stopwords\n",
    "from nltk.stem import WordNetLemmatizer\n",
    "import collections             # Implements specialized container datatypes:\n",
    "                               #  OrderedDict - dict subclass that remembers the order entries were added\n",
    "import operator                # Implements standard operators as functions:\n",
    "                               #  itemgetter - fetches item from its operand\n",
    "from rake_nltk import Rake     # Rapid Automatic Keyword Extraction algorithm\n",
    "                               #  Uses stopwords for english from NLTK, and all puntuation characters by default\n",
    "#nltk.download('punkt')\n",
    "#nltk.download('stopwords')\n",
    "#nltk.download('wordnet')"
   ]
  },
  {
   "cell_type": "code",
   "execution_count": null,
   "id": "e2cbd576-4cec-4569-8062-bf0220d03020",
   "metadata": {},
   "outputs": [],
   "source": [
    "pp = PrettyPrinter(indent=4)"
   ]
  },
  {
   "cell_type": "markdown",
   "id": "e7e838a2-c7ef-4140-9a05-88e77d47aa0e",
   "metadata": {},
   "source": [
    "### Load Data"
   ]
  },
  {
   "cell_type": "code",
   "execution_count": null,
   "id": "3f0f3866-58bb-4016-af4e-5a88cdb37e38",
   "metadata": {},
   "outputs": [],
   "source": [
    "# Reading data files\n",
    "movies_df = pd.read_csv('data/tmdb_5000_movies.csv')\n",
    "credits_df = pd.read_csv('data/tmdb_5000_credits.csv')"
   ]
  },
  {
   "cell_type": "markdown",
   "id": "01a40228-1297-4e11-a72c-de8f304b4acd",
   "metadata": {},
   "source": [
    "### Examine movies dataset"
   ]
  },
  {
   "cell_type": "code",
   "execution_count": null,
   "id": "82dbcdaa-bcb9-4864-b1fd-33d4aef15a77",
   "metadata": {},
   "outputs": [],
   "source": [
    "movies_df.shape"
   ]
  },
  {
   "cell_type": "code",
   "execution_count": null,
   "id": "c0d7f88d-1822-4aaa-8a34-8d95c247e762",
   "metadata": {},
   "outputs": [],
   "source": [
    "movies_df.head()"
   ]
  },
  {
   "cell_type": "code",
   "execution_count": null,
   "id": "9e54fba6-705c-41e0-bdaf-b786702315e7",
   "metadata": {},
   "outputs": [],
   "source": [
    "movies_df.describe()"
   ]
  },
  {
   "cell_type": "code",
   "execution_count": null,
   "id": "10a3a18c-ef4b-487f-ba15-3826c799c0d9",
   "metadata": {},
   "outputs": [],
   "source": [
    "movies_df.columns"
   ]
  },
  {
   "cell_type": "code",
   "execution_count": null,
   "id": "d91998b2-a2f9-4125-8e5a-fbbf0dc4be50",
   "metadata": {},
   "outputs": [],
   "source": [
    "# Note: overview has 31 missing values\n",
    "movies_df.isnull().sum()"
   ]
  },
  {
   "cell_type": "markdown",
   "id": "45f696ef-9d7e-4cce-a819-7b1805bac87e",
   "metadata": {},
   "source": [
    "### Overview"
   ]
  },
  {
   "cell_type": "code",
   "execution_count": null,
   "id": "0232a5b4-6e47-4411-b43b-a555cd524db9",
   "metadata": {},
   "outputs": [],
   "source": [
    "# Display rows where overview is null\n",
    "movies_df[movies_df['overview'].isnull()]"
   ]
  },
  {
   "cell_type": "code",
   "execution_count": null,
   "id": "1e23a9ea-2b87-4e29-a29a-11bad04d1285",
   "metadata": {},
   "outputs": [],
   "source": [
    "movies_df['overview'] = movies_df['overview'].fillna('')"
   ]
  },
  {
   "cell_type": "code",
   "execution_count": null,
   "id": "91f41acf-5994-4d1f-bd45-dd62750472d7",
   "metadata": {},
   "outputs": [],
   "source": [
    "movies_df['overview'].isnull().sum()"
   ]
  },
  {
   "cell_type": "code",
   "execution_count": null,
   "id": "a9e842cb-8f63-433f-840b-10a767d824a9",
   "metadata": {},
   "outputs": [],
   "source": [
    "movies_df['overview'][0]"
   ]
  },
  {
   "cell_type": "code",
   "execution_count": null,
   "id": "c322d80d-f63b-4db8-8c9a-9a1828787273",
   "metadata": {},
   "outputs": [],
   "source": [
    "movies_df['title'][0]"
   ]
  },
  {
   "cell_type": "markdown",
   "id": "b4e6e623-acb1-4b3b-a59b-0ce7817a00de",
   "metadata": {},
   "source": [
    "### Unpack Genres"
   ]
  },
  {
   "cell_type": "code",
   "execution_count": null,
   "id": "8aba2444-a70f-4734-90d5-c0bf9c03412b",
   "metadata": {},
   "outputs": [],
   "source": [
    "movies_df['genres'][0]"
   ]
  },
  {
   "cell_type": "code",
   "execution_count": null,
   "id": "af435215-780b-49ce-b068-3266e21e8b54",
   "metadata": {},
   "outputs": [],
   "source": [
    "pp.pprint(movies_df['genres'][0])"
   ]
  },
  {
   "cell_type": "code",
   "execution_count": null,
   "id": "4594109a-3c67-41a2-a549-4a81f3bfb055",
   "metadata": {},
   "outputs": [],
   "source": [
    "type(movies_df['genres'][0])"
   ]
  },
  {
   "cell_type": "code",
   "execution_count": null,
   "id": "3dcaf6ba-afaf-41f5-969c-8264a1c6f7e4",
   "metadata": {},
   "outputs": [],
   "source": [
    "# Convert string of list to list\n",
    "ast.literal_eval(movies_df['genres'][0])"
   ]
  },
  {
   "cell_type": "code",
   "execution_count": null,
   "id": "005bbf30-1723-4a0e-a1b6-95cfbd6ca38c",
   "metadata": {},
   "outputs": [],
   "source": [
    "# Create function to extract values from a dict\n",
    "def get_names(lst):\n",
    "    feat = []\n",
    "    for i in ast.literal_eval(lst):\n",
    "        feat.append(i['name'])          # Get the value associated with the key 'name'\n",
    "    return feat"
   ]
  },
  {
   "cell_type": "code",
   "execution_count": null,
   "id": "bc8b4d01-6b73-471b-8a30-3112a9b5d939",
   "metadata": {},
   "outputs": [],
   "source": [
    "# Extract genres names\n",
    "movies_df['genres_names'] = movies_df['genres'].apply(get_names)"
   ]
  },
  {
   "cell_type": "code",
   "execution_count": null,
   "id": "2a1b7be6-f96f-458c-818d-88ad463722f5",
   "metadata": {},
   "outputs": [],
   "source": [
    "type(movies_df['genres_names'][0])"
   ]
  },
  {
   "cell_type": "code",
   "execution_count": null,
   "id": "1c7fb4bc-173e-4e6a-8f7b-6b0874f27b7a",
   "metadata": {},
   "outputs": [],
   "source": [
    "movies_df['genres_names'][0]"
   ]
  },
  {
   "cell_type": "code",
   "execution_count": null,
   "id": "95f84faf-5dd5-40db-9dce-d2284457e1e6",
   "metadata": {},
   "outputs": [],
   "source": [
    "pd.set_option('max_colwidth', None)"
   ]
  },
  {
   "cell_type": "code",
   "execution_count": null,
   "id": "7e7b2505-d411-4bc7-b25e-8be34b006778",
   "metadata": {},
   "outputs": [],
   "source": [
    "movies_df[['genres','genres_names']].head()"
   ]
  },
  {
   "cell_type": "markdown",
   "id": "93c0f945-57e3-4122-9474-325dfb9f0009",
   "metadata": {},
   "source": [
    "### Unpack Keywords"
   ]
  },
  {
   "cell_type": "code",
   "execution_count": null,
   "id": "07fd4c79-c4e7-4870-affb-67d7fd68154d",
   "metadata": {},
   "outputs": [],
   "source": [
    "# Convert string of list to list\n",
    "ast.literal_eval(movies_df['keywords'][0])"
   ]
  },
  {
   "cell_type": "code",
   "execution_count": null,
   "id": "c91a739c-4348-4317-81ba-fabe7de0b677",
   "metadata": {},
   "outputs": [],
   "source": [
    "pp.pprint(movies_df['keywords'][0])"
   ]
  },
  {
   "cell_type": "code",
   "execution_count": null,
   "id": "d9c7ba55-63cb-4dcb-947e-b344d51be1e3",
   "metadata": {},
   "outputs": [],
   "source": [
    "type(movies_df['keywords'][0])"
   ]
  },
  {
   "cell_type": "code",
   "execution_count": null,
   "id": "951c3e43-362f-48eb-8e9e-6c4dda0cc19a",
   "metadata": {},
   "outputs": [],
   "source": [
    "# Extract genres names\n",
    "movies_df['keywords_unpacked'] = movies_df['keywords'].apply(get_names)"
   ]
  },
  {
   "cell_type": "code",
   "execution_count": null,
   "id": "052318a8-5e1b-465f-b3aa-a53cafce9515",
   "metadata": {},
   "outputs": [],
   "source": [
    "type(movies_df['keywords_unpacked'][0])"
   ]
  },
  {
   "cell_type": "markdown",
   "id": "5e32d8d6-ad61-46d3-8e3f-4a07d62af081",
   "metadata": {},
   "source": [
    "### Examine credits dataset"
   ]
  },
  {
   "cell_type": "code",
   "execution_count": null,
   "id": "bed9857e-fea7-4c1f-bab8-2a81cba66d10",
   "metadata": {},
   "outputs": [],
   "source": [
    "credits_df.shape"
   ]
  },
  {
   "cell_type": "code",
   "execution_count": null,
   "id": "a1482262-7a49-4469-a3e2-e969ccd3707f",
   "metadata": {},
   "outputs": [],
   "source": [
    "# Allow strings to show full length and not get cut off\n",
    "pd.set_option('max_colwidth', 500)"
   ]
  },
  {
   "cell_type": "code",
   "execution_count": null,
   "id": "217a6f7d-c9cd-4106-9fdd-7236ce02242d",
   "metadata": {},
   "outputs": [],
   "source": [
    "credits_df.head()"
   ]
  },
  {
   "cell_type": "code",
   "execution_count": null,
   "id": "ed92b3a3-9f76-4a1c-b406-5def739ee185",
   "metadata": {},
   "outputs": [],
   "source": [
    "credits_df.describe()"
   ]
  },
  {
   "cell_type": "code",
   "execution_count": null,
   "id": "6027852f-4a37-4cd5-8942-455f19a4560b",
   "metadata": {},
   "outputs": [],
   "source": [
    "credits_df.columns"
   ]
  },
  {
   "cell_type": "code",
   "execution_count": null,
   "id": "83f38960-ef34-4feb-8f17-4e0995d91a59",
   "metadata": {},
   "outputs": [],
   "source": [
    "credits_df.isnull().sum()"
   ]
  },
  {
   "cell_type": "code",
   "execution_count": null,
   "id": "7dc19d0a-69a1-4c7b-98c7-76e5392d618e",
   "metadata": {},
   "outputs": [],
   "source": [
    "credits_df['title'][0]"
   ]
  },
  {
   "cell_type": "markdown",
   "id": "6df92ac5-62a1-4953-b7ce-1b7acd7f66ff",
   "metadata": {},
   "source": [
    "### Extract Movie Characters from \"Cast\" Field"
   ]
  },
  {
   "cell_type": "code",
   "execution_count": null,
   "id": "bdb05d64-8580-40b3-a020-ee2a431e6956",
   "metadata": {},
   "outputs": [],
   "source": [
    "pp.pprint(credits_df['cast'][0])"
   ]
  },
  {
   "cell_type": "code",
   "execution_count": null,
   "id": "1986fb09-08cb-4958-a9f4-646ba9ab9aea",
   "metadata": {},
   "outputs": [],
   "source": [
    "ast.literal_eval(credits_df['cast'][0])"
   ]
  },
  {
   "cell_type": "code",
   "execution_count": null,
   "id": "daf54b74-846e-4e69-b788-f4f5ea6a12ee",
   "metadata": {},
   "outputs": [],
   "source": [
    "# Convert string of list to list\n",
    "ast.literal_eval(credits_df['cast'][0])\n",
    "\n",
    "# Create function to extract values from a dict\n",
    "def get_names(lst):\n",
    "    feat = []\n",
    "    for i in ast.literal_eval(lst):\n",
    "        feat.append(i['character'])          # Get the value associated with the key 'name'\n",
    "    return feat\n",
    "\n",
    "# Extract genres names\n",
    "credits_df['character'] = credits_df['cast'].apply(get_names)\n",
    "\n",
    "type(credits_df['character'][0])\n",
    "\n",
    "credits_df['character'][0]\n",
    "\n",
    "credits_df[['cast','character']].head()"
   ]
  },
  {
   "cell_type": "markdown",
   "id": "44f3c4e8-65b4-4441-b4fe-b59c4710cb11",
   "metadata": {},
   "source": [
    "### Extract Actors from \"Cast\" Field"
   ]
  },
  {
   "cell_type": "code",
   "execution_count": null,
   "id": "f3125928-8c75-4ff5-bf91-b970865eafaa",
   "metadata": {},
   "outputs": [],
   "source": [
    "# Convert string of list to list\n",
    "ast.literal_eval(credits_df['cast'][0])\n",
    "\n",
    "# Create function to extract values from a dict\n",
    "def get_names(lst):\n",
    "    feat = []\n",
    "    for i in ast.literal_eval(lst):\n",
    "        feat.append(i['name'])          # Get the value associated with the key 'name'\n",
    "    return feat\n",
    "\n",
    "# Extract genres names\n",
    "credits_df['actors'] = credits_df['cast'].apply(get_names)\n",
    "\n",
    "type(credits_df['actors'][0])\n",
    "\n",
    "credits_df['actors'][0]\n",
    "\n",
    "credits_df[['cast','actors']].head()"
   ]
  },
  {
   "cell_type": "markdown",
   "id": "14d211e1-53b9-47b5-92d6-3de4c6604130",
   "metadata": {},
   "source": [
    "### Unpack Crew"
   ]
  },
  {
   "cell_type": "code",
   "execution_count": null,
   "id": "47420ea2-b0ac-4688-aaf6-a9a3e2409ae4",
   "metadata": {},
   "outputs": [],
   "source": [
    "pp.pprint(credits_df['crew'][0])"
   ]
  },
  {
   "cell_type": "code",
   "execution_count": null,
   "id": "e78dae08-2d73-43c1-b2e3-6756e61ac517",
   "metadata": {},
   "outputs": [],
   "source": [
    "ast.literal_eval(credits_df['crew'][0])"
   ]
  },
  {
   "cell_type": "code",
   "execution_count": null,
   "id": "5d87359f-d800-48fe-b543-c3e24f5a6aeb",
   "metadata": {},
   "outputs": [],
   "source": [
    "for i in ast.literal_eval(credits_df['crew'][0]):\n",
    "    print(i['job'])"
   ]
  },
  {
   "cell_type": "code",
   "execution_count": null,
   "id": "88efc955-3c46-454a-8d14-526769112328",
   "metadata": {},
   "outputs": [],
   "source": [
    "def get_director(lst):\n",
    "    feat = []\n",
    "    for i in ast.literal_eval(lst):\n",
    "        if i['job'].lower() =='director':\n",
    "            feat.append(i['name'])          \n",
    "    return feat"
   ]
  },
  {
   "cell_type": "code",
   "execution_count": null,
   "id": "34fac364-fba0-4a1a-b951-067cf5d86c9b",
   "metadata": {},
   "outputs": [],
   "source": [
    "credits_df['director'] = credits_df['crew'].apply(get_director)\n",
    "pd.set_option('max_colwidth', None)\n",
    "credits_df[['director']].head()"
   ]
  },
  {
   "cell_type": "code",
   "execution_count": null,
   "id": "d05642d0-e22a-44ab-a3ee-b2f5de4e66fb",
   "metadata": {},
   "outputs": [],
   "source": [
    "# Allow strings to show full length and not get cut off\n",
    "pd.set_option('max_colwidth', 500)"
   ]
  },
  {
   "cell_type": "code",
   "execution_count": null,
   "id": "bb3f917e-4db7-4adf-a4b3-38495fa60c12",
   "metadata": {},
   "outputs": [],
   "source": [
    "credits_df.head()"
   ]
  },
  {
   "cell_type": "markdown",
   "id": "4baf986b-044a-46cc-b292-7396c2530732",
   "metadata": {},
   "source": [
    "### Merge Datasets"
   ]
  },
  {
   "cell_type": "code",
   "execution_count": null,
   "id": "6a0cdfbb-f1ac-4205-a101-d4dc14b5b56a",
   "metadata": {},
   "outputs": [],
   "source": [
    "# Merge movie and credits dataset\n",
    "merged_df = pd.merge(movies_df, credits_df, left_on='id', right_on='movie_id', suffixes=('_movies.df', '_credits.df'))"
   ]
  },
  {
   "cell_type": "code",
   "execution_count": null,
   "id": "0b457be7-9ca4-456a-8975-16d17b56f3a6",
   "metadata": {},
   "outputs": [],
   "source": [
    "# save the dataframe to a CSV file to use in new notebook\n",
    "merged_df.to_csv('merged_df.csv', index=False)"
   ]
  },
  {
   "cell_type": "code",
   "execution_count": null,
   "id": "081dc544-9563-467b-8d8c-f8a40db65c0d",
   "metadata": {},
   "outputs": [],
   "source": [
    "merged_df['genres'] = merged_df['genres'].str.strip('[]').str.replace(' ','').str.replace(\"'\",'')\n",
    "merged_df['genres'] = merged_df['genres'].str.split(',')"
   ]
  },
  {
   "cell_type": "markdown",
   "id": "65d3aa1d-948f-4530-b970-bf3c9cb69e59",
   "metadata": {},
   "source": [
    "### Replace 31 NaN Overviews"
   ]
  },
  {
   "cell_type": "code",
   "execution_count": null,
   "id": "5c260614-5037-42c0-9628-f42e7a966ab9",
   "metadata": {},
   "outputs": [],
   "source": [
    "nan_rows = movies_df[movies_df['overview'] == '']\n",
    "nan_rows.shape"
   ]
  },
  {
   "cell_type": "code",
   "execution_count": null,
   "id": "6443162a-9620-4d10-8160-e79d38d87454",
   "metadata": {},
   "outputs": [],
   "source": [
    "nan_rows.head()"
   ]
  },
  {
   "cell_type": "code",
   "execution_count": null,
   "id": "9321f734-b133-492b-8df7-f6b9f2b7a603",
   "metadata": {},
   "outputs": [],
   "source": [
    "## star wars\n",
    "indices_to_fill = 2912\n",
    "movies_df.loc[indices_to_fill, 'overview'] = \"Luke Skywalker joins forces with a Jedi Knight, a cocky pilot, a Wookiee and two droids to save the galaxy from the Empire's world-destroying battle station, while also attempting to rescue Princess Leia from the mysterious Darth Vader.\"\n",
    "\n",
    "# The Godfather: Part II\n",
    "indices_to_fill = 2731\n",
    "movies_df.loc[indices_to_fill, 'overview'] = \"The early life and career of Vito Corleone in 1920s New York City is portrayed, while his son, Michael, expands and tightens his grip on the family crime syndicate.\"\n",
    "\n",
    "# Chiamatemi Francesco - Il Papa della gente\n",
    "indices_to_fill = 2656\n",
    "movies_df.loc[indices_to_fill, 'overview'] = \"The story of Pope Francis' life.\"\n",
    "\n",
    "# The Imitation Game\n",
    "indices_to_fill = 2522\n",
    "movies_df.loc[indices_to_fill, 'overview'] = \"During World War II, the English mathematical genius Alan Turing tries to crack the German Enigma code with help from fellow mathematicians while attempting to come to terms with his troubled private life.\"\n",
    "\n",
    "# spirited away \n",
    "indices_to_fill = 2294\n",
    "movies_df.loc[indices_to_fill, 'overview'] = \"During her family's move to the suburbs, a sullen 10-year-old girl wanders into a world ruled by gods, witches and spirits, a world where humans are changed into beasts.\"\n",
    "\n",
    "# Back to the Future\n",
    "indices_to_fill = 2285\n",
    "movies_df.loc[indices_to_fill, 'overview'] = \"Marty McFly, a 17-year-old high school student, is accidentally sent 30 years into the past in a time-traveling DeLorean invented by his close friend, the maverick scientist Doc Brown.\""
   ]
  },
  {
   "cell_type": "code",
   "execution_count": null,
   "id": "3937bd8c-06d2-49ea-baaf-26d7c58b10d8",
   "metadata": {},
   "outputs": [],
   "source": [
    "# Food Chains\n",
    "indices_to_fill = 4431\n",
    "movies_df.loc[indices_to_fill, 'overview'] = \"There is so much interest in food these days yet there is almost no interest in the hands that pick that food. In the US, farm labor has always been one of the most difficult and poorly paid jobs and has relied on some of the nation's most vulnerable people. While the legal restrictions which kept people bound to farms, like slavery, have been abolished, exploitation still exists, ranging from wage theft to modern-day slavery. These days, this exploitation is perpetuated by the corporations at the top of the food chain: supermarkets. Their buying power has kept wages pitifully low and has created a scenario where desperately poor people are willing to put up with anything to keep their jobs.\"\n",
    "\n",
    "# whiplash\n",
    "indices_to_fill = 3865\n",
    "movies_df.loc[indices_to_fill, 'overview'] = \"A promising young drummer enrolls at a cut-throat music conservatory where his dreams of greatness are mentored by an instructor who will stop at nothing to realize a student's potential.\"\n",
    "\n",
    "# The godfather\n",
    "indices_to_fill = 3337\n",
    "movies_df.loc[indices_to_fill, 'overview'] = \"The aging patriarch of an organized crime dynasty in postwar New York City transfers control of his clandestine empire to his reluctant youngest son.\"\n",
    "\n",
    "# pulp fiction\n",
    "indices_to_fill = 3232\n",
    "movies_df.loc[indices_to_fill, 'overview'] = \"The lives of two mob hitmen, a boxer, a gangster and his wife, and a pair of diner bandits intertwine in four tales of violence and redemption.\""
   ]
  },
  {
   "cell_type": "code",
   "execution_count": null,
   "id": "83a2e333-4f9d-4759-9991-72b5df98ce35",
   "metadata": {},
   "outputs": [],
   "source": [
    "# forrest gump\n",
    "indices_to_fill = 809\n",
    "movies_df.loc[indices_to_fill, 'overview'] = \"The presidencies of Kennedy and Johnson, the Vietnam War, the Watergate scandal and other historical events unfold from the perspective of an Alabama man with an IQ of 75, whose only desire is to be reunited with his childhood sweetheart.\"\n",
    "\n",
    "# se7en\n",
    "indices_to_fill = 1553\n",
    "movies_df.loc[indices_to_fill, 'overview'] = \"Two detectives, a rookie and a veteran, hunt a serial killer who uses the seven deadly sins as his motives.\"\n",
    "\n",
    "# schindler's list\n",
    "indices_to_fill = 1818\n",
    "movies_df.loc[indices_to_fill, 'overview'] = \"In German-occupied Poland during World War II, industrialist Oskar Schindler gradually becomes concerned for his Jewish workforce after witnessing their persecution by the Nazis.\"\n",
    "\n",
    "# shawshank redemption\n",
    "indices_to_fill = 1881\n",
    "movies_df.loc[indices_to_fill, 'overview'] = \"Over the course of several years, two convicts form a friendship, seeking consolation and, eventually, redemption through basic compassion.\"\n",
    "\n",
    "# The Empire Strikes Back\n",
    "indices_to_fill = 1990\n",
    "movies_df.loc[indices_to_fill, 'overview'] = \"After the Rebels are overpowered by the Empire, Luke Skywalker begins his Jedi training with Yoda, while his friends are pursued across the galaxy by Darth Vader and bounty hunter Boba Fett.\"\n",
    "\n",
    "# The Silence of the Lambs\t\n",
    "indices_to_fill = 2091\n",
    "movies_df.loc[indices_to_fill, 'overview'] = \"A young F.B.I. cadet must receive the help of an incarcerated and manipulative cannibal killer to help catch another serial killer, a madman who skins his victims.\""
   ]
  },
  {
   "cell_type": "code",
   "execution_count": null,
   "id": "b7ce6545-76da-467b-95c3-035eca244531",
   "metadata": {},
   "outputs": [],
   "source": [
    "# The Wolf of Wall Street\n",
    "indices_to_fill = 298\n",
    "movies_df.loc[indices_to_fill, 'overview'] = \"Based on the true story of Jordan Belfort, from his rise to a wealthy stock-broker living the high life to his fall involving crime, corruption and the federal government.\"\n",
    "\n",
    "# The Lord of the Rings: The Return of the King\n",
    "indices_to_fill = 329\n",
    "movies_df.loc[indices_to_fill, 'overview'] = \"Gandalf and Aragorn lead the World of Men against Sauron's army to draw his gaze from Frodo and Sam as they approach Mount Doom with the One Ring.\"\n",
    "\n",
    "# The Lord of the Rings: The Two Towers\n",
    "indices_to_fill = 330\n",
    "movies_df.loc[indices_to_fill, 'overview'] = \"While Frodo and Sam edge closer to Mordor with the help of the shifty Gollum, the divided fellowship makes a stand against Sauron's new ally, Saruman, and his hordes of Isengard.\"\n",
    "\n",
    "# The Lion King\n",
    "indices_to_fill = 494\n",
    "movies_df.loc[indices_to_fill, 'overview'] = \"Lion prince Simba and his father are targeted by his bitter uncle, who wants to ascend the throne himself.\"\n",
    "\n",
    "# the matrix 1994\n",
    "indices_to_fill = 634\n",
    "movies_df.loc[indices_to_fill, 'overview'] = \"When a beautiful stranger leads computer hacker Neo to a forbidding underworld, he discovers the shocking truth--the life he knows is the elaborate deception of an evil cyber-intelligence.\"\n",
    "\n",
    "# Fight Club\n",
    "indices_to_fill = 662\n",
    "movies_df.loc[indices_to_fill, 'overview'] = \"An insomniac office worker and a devil-may-care soap maker form an underground fight club that evolves into much more.\"\n",
    "\n",
    "# the green mile\n",
    "indices_to_fill = 690\n",
    "movies_df.loc[indices_to_fill, 'overview'] = \"The lives of guards on Death Row are affected by one of their charges: a black man accused of child murder and rape, yet who has a mysterious gift.\"\n"
   ]
  },
  {
   "cell_type": "code",
   "execution_count": null,
   "id": "f771f603-3961-4786-b660-226ae6cab26f",
   "metadata": {},
   "outputs": [],
   "source": [
    "# the Dark Knight\n",
    "indices_to_fill = 65\n",
    "movies_df.loc[indices_to_fill, 'overview'] = \"When the menace known as the Joker wreaks havoc and chaos on the people of Gotham, Batman must accept one of the greatest psychological and physical tests of his ability to fight injustice.\"\n",
    "\n",
    "# inside out\n",
    "indices_to_fill = 77\n",
    "movies_df.loc[indices_to_fill, 'overview'] = \"After young Riley is uprooted from her Midwest life and moved to San Francisco, her emotions - Joy, Fear, Anger, Disgust and Sadness - conflict on how best to navigate a new city, house, and school.\"\n",
    "\n",
    "# Guardians of the galaxy\n",
    "indices_to_fill = 94\n",
    "movies_df.loc[indices_to_fill, 'overview'] = \"A group of intergalactic criminals must pull together to stop a fanatical warrior with plans to purge the universe.\"\n",
    "\n",
    "# Intestellar\n",
    "indices_to_fill = 95\n",
    "movies_df.loc[indices_to_fill, 'overview'] = \"A team of explorers travel through a wormhole in space in an attempt to ensure humanity's survival.\"\n",
    "\n",
    "# Inception\n",
    "indices_to_fill = 96\n",
    "movies_df.loc[indices_to_fill, 'overview'] = \"A thief who steals corporate secrets through the use of dream-sharing technology is given the inverse task of planting an idea into the mind of a C.E.O., but his tragic past may doom the project and his team to disaster.\"\n",
    "\n",
    "# The Lord of the Rings: The Fellowship of the Ring\n",
    "indices_to_fill = 262\n",
    "movies_df.loc[indices_to_fill, 'overview'] = \"A meek Hobbit from the Shire and eight companions set out on a journey to destroy the powerful One Ring and save Middle-earth from the Dark Lord Sauron.\"\n",
    "\n",
    "# Django Unchained\n",
    "indices_to_fill = 287\n",
    "movies_df.loc[indices_to_fill, 'overview'] = \"With the help of a German bounty-hunter, a freed slave sets out to rescue his wife from a brutal plantation owner in Mississippi.\""
   ]
  },
  {
   "cell_type": "code",
   "execution_count": null,
   "id": "79b2bfbf-13ec-42d4-a29d-155d7f93e4d7",
   "metadata": {},
   "outputs": [],
   "source": [
    "nan_rows = movies_df[movies_df['overview'] == '']\n",
    "print(nan_rows.shape)\n",
    "nan_rows"
   ]
  },
  {
   "cell_type": "code",
   "execution_count": null,
   "id": "b3f01d88-b4a3-4c60-a952-80ce996008ea",
   "metadata": {},
   "outputs": [],
   "source": [
    "movies_df.iloc[4140]"
   ]
  },
  {
   "cell_type": "code",
   "execution_count": null,
   "id": "9d3a4247-afaf-4fc8-bbb8-07d3177db3f8",
   "metadata": {},
   "outputs": [],
   "source": [
    "# drop movie with low budget, no ratings, no overview, insufficent data\n",
    "movies_df = movies_df.drop(index=4140)"
   ]
  },
  {
   "cell_type": "code",
   "execution_count": null,
   "id": "70e383f5-cb2f-409e-b867-82579963deb4",
   "metadata": {},
   "outputs": [],
   "source": [
    "nan_rows = movies_df[movies_df['overview'] == '']\n",
    "nan_rows"
   ]
  },
  {
   "cell_type": "markdown",
   "id": "bc2094c9-344d-492d-bc9b-113e73de09a4",
   "metadata": {},
   "source": [
    "### EDA Visualizations"
   ]
  },
  {
   "cell_type": "code",
   "execution_count": null,
   "id": "517a85d0-93dc-4625-8273-80f76e15d35e",
   "metadata": {},
   "outputs": [],
   "source": [
    "C= movies_df['vote_average'].mean()\n",
    "m= movies_df['vote_count'].quantile(0.9)"
   ]
  },
  {
   "cell_type": "code",
   "execution_count": null,
   "id": "9aaf4dbc-8977-4b07-a542-50a9d41496fe",
   "metadata": {},
   "outputs": [],
   "source": [
    "count_movies = movies_df.copy().loc[movies_df['vote_count'] >= m]\n",
    "count_movies.shape"
   ]
  },
  {
   "cell_type": "code",
   "execution_count": null,
   "id": "0f79c2a6-8e6b-4f28-81e0-a4f8e82703dd",
   "metadata": {},
   "outputs": [],
   "source": [
    "def weighted_rating(x, m=m, C=C):\n",
    "    v = x['vote_count']\n",
    "    R = x['vote_average']\n",
    "    # Calculation based on the IMDB formula\n",
    "    return (v/(v+m) * R) + (m/(m+v) * C)"
   ]
  },
  {
   "cell_type": "code",
   "execution_count": null,
   "id": "949b8164-2241-4c8d-8edd-9218ef81d161",
   "metadata": {},
   "outputs": [],
   "source": [
    "# Define a new feature 'score' and calculate its value with `weighted_rating()`\n",
    "count_movies['score'] = count_movies.apply(weighted_rating, axis=1)"
   ]
  },
  {
   "cell_type": "code",
   "execution_count": null,
   "id": "7aefa81e-deb6-4ce5-8157-5e4ebd88a07c",
   "metadata": {},
   "outputs": [],
   "source": [
    "#Sort movies based on score calculated above\n",
    "count_movies = count_movies.sort_values('score', ascending=False)\n",
    "\n",
    "#Print the top 10 movies\n",
    "count_movies[['title', 'vote_count', 'vote_average', 'score']].head(10)"
   ]
  },
  {
   "cell_type": "code",
   "execution_count": null,
   "id": "fff7f08a-0612-4e5d-971f-751ca0d59cef",
   "metadata": {},
   "outputs": [],
   "source": [
    "pop= movies_df.sort_values('popularity', ascending=False)\n",
    "import matplotlib.pyplot as plt\n",
    "plt.figure(figsize=(12,4))\n",
    "\n",
    "plt.barh(pop['title'].head(6),pop['popularity'].head(6), align='center',\n",
    "        color='skyblue')\n",
    "plt.gca().invert_yaxis()\n",
    "plt.xlabel(\"Popularity\")\n",
    "plt.title(\"Popular Movies\")"
   ]
  },
  {
   "cell_type": "code",
   "execution_count": null,
   "id": "2316e5a1-a54c-4332-bd8f-ca7bbff283a7",
   "metadata": {},
   "outputs": [],
   "source": [
    "#WordCloud\n",
    "# read in movie titles data\n",
    "keywords = merged_df['keywords'].tolist()"
   ]
  },
  {
   "cell_type": "code",
   "execution_count": null,
   "id": "68a59550-fcde-433a-8272-899d6fbb4ad5",
   "metadata": {},
   "outputs": [],
   "source": [
    "all_keywords = ' '.join(keywords)"
   ]
  },
  {
   "cell_type": "code",
   "execution_count": null,
   "id": "2e5db213-6680-454d-9a58-5f50e9c60aa2",
   "metadata": {},
   "outputs": [],
   "source": [
    "wordcloud = WordCloud(width=700, height=700, background_color='grey', max_words=200, colormap='plasma').generate(all_keywords)"
   ]
  },
  {
   "cell_type": "code",
   "execution_count": null,
   "id": "91616e7b-ea16-42a0-bd4d-1ff6e44daef3",
   "metadata": {},
   "outputs": [],
   "source": [
    "plt.figure(figsize=(8, 8), facecolor=None)\n",
    "plt.imshow(wordcloud)\n",
    "plt.axis(\"off\")\n",
    "plt.tight_layout(pad=0)\n",
    "plt.show()"
   ]
  },
  {
   "cell_type": "code",
   "execution_count": null,
   "id": "9a6e1d1a-237d-4b7f-8920-e9b7e6b93d74",
   "metadata": {},
   "outputs": [],
   "source": [
    "type(merged_df[['runtime']])"
   ]
  },
  {
   "cell_type": "code",
   "execution_count": null,
   "id": "392ce83f-25a5-4e91-906d-252c2bb90c98",
   "metadata": {},
   "outputs": [],
   "source": [
    "plt.figure(figsize=(10, 6))  # Set the size of the figure\n",
    "\n",
    "plt.hist(merged_df['runtime'], bins=50, color='green')\n",
    "\n",
    "plt.title(\"Distribution of Average Runtime\", fontsize=18)\n",
    "plt.xlabel(\"Average Runtime\", fontsize=14)\n",
    "plt.ylabel(\"Frequency\", fontsize=14)\n",
    "plt.xticks(fontsize=12)\n",
    "plt.yticks(fontsize=12)\n",
    "\n",
    "plt.show()"
   ]
  },
  {
   "cell_type": "code",
   "execution_count": null,
   "id": "96052b50-f545-4492-9c4a-f738f3b3b4b8",
   "metadata": {},
   "outputs": [],
   "source": [
    "plt.figure(figsize=(10, 6))  # Set the size of the figure\n",
    "\n",
    "plt.hist(merged_df['vote_average'], bins=50, color='orange')\n",
    "plt.tick_params(axis='both', which='major', labelsize=14)  # Set the font size of the tick labels\n",
    "plt.title(\"Distribution of Vote Average\", fontsize=18)\n",
    "plt.xlabel(\"Average Votes\", fontsize=14)\n",
    "plt.ylabel(\"Frequency\", fontsize=14)\n",
    "\n",
    "plt.show()"
   ]
  },
  {
   "cell_type": "code",
   "execution_count": null,
   "id": "aaa4484c-2006-495f-9905-6608dc70dfaf",
   "metadata": {},
   "outputs": [],
   "source": [
    "plt.figure(figsize=(10, 6))  # Set the size of the figure\n",
    "\n",
    "plt.hist(merged_df['vote_count'], bins=50, color='darkblue')  # Set the color of the histogram\n",
    "\n",
    "plt.title(\"Distribution of Vote Count\", fontsize=18)  # Set the font size of the title\n",
    "plt.xlabel(\"Vote Counts\", fontsize=14)  # Set the font size of the x-axis label\n",
    "plt.ylabel(\"Frequency\", fontsize=14)  # Set the font size of the y-axis label\n",
    "\n",
    "plt.tick_params(axis='both', which='major', labelsize=12)  # Set the font size of the tick labels\n",
    "\n",
    "plt.show()"
   ]
  },
  {
   "cell_type": "markdown",
   "id": "307a0222-20f0-4dc8-9bfc-d08a380359ef",
   "metadata": {},
   "source": [
    "### Review token (vocabulary) frequency distribution before removing stop words"
   ]
  },
  {
   "cell_type": "code",
   "execution_count": null,
   "id": "dba0f575-df05-41cb-9879-102f9283fea0",
   "metadata": {},
   "outputs": [],
   "source": [
    "def get_top_n_words(corpus, n=None):\n",
    "    vec = CountVectorizer().fit(corpus)\n",
    "    bag_of_words = vec.transform(corpus)\n",
    "    sum_words = bag_of_words.sum(axis=0)  ### Review token (vocabulary) frequency distribution after removing stop words = bag_of_words.sum(axis=0) \n",
    "    words_freq = [(word, sum_words[0, idx]) for word, idx in vec.vocabulary_.items()]\n",
    "    words_freq =sorted(words_freq, key = lambda x: x[1], reverse=True)\n",
    "    return words_freq[:n]\n",
    "common_words = get_top_n_words(merged_df['overview'], 20)\n",
    "print('Top 20 words in movies overview before removing stop words')\n",
    "common_words"
   ]
  },
  {
   "cell_type": "markdown",
   "id": "bbbb5943-c22f-4f5c-86a0-7dc3e607400b",
   "metadata": {},
   "source": [
    "### Review token (vocabulary) frequency distribution after removing stop words"
   ]
  },
  {
   "cell_type": "code",
   "execution_count": null,
   "id": "4a482e88-0066-4675-aa5c-1bef138a8b34",
   "metadata": {},
   "outputs": [],
   "source": [
    "def get_top_n_words(corpus, n=None):\n",
    "    vec = CountVectorizer(stop_words='english').fit(corpus)\n",
    "    bag_of_words = vec.transform(corpus)\n",
    "    sum_words = bag_of_words.sum(axis=0) \n",
    "    words_freq = [(word, sum_words[0, idx]) for word, idx in vec.vocabulary_.items()]\n",
    "    words_freq =sorted(words_freq, key = lambda x: x[1], reverse=True)\n",
    "    return words_freq[:n]\n",
    "common_words = get_top_n_words(merged_df['overview'],20)### Review token (vocabulary) frequency distribution after removing stop words'], 20)\n",
    "print('Top 20 words in movies overview after removing stop words')\n",
    "common_words"
   ]
  },
  {
   "cell_type": "markdown",
   "id": "31dfddf5-6afc-41f7-bace-255f44d06e51",
   "metadata": {},
   "source": [
    "### Bigrams frequency distribution before removing stop words"
   ]
  },
  {
   "cell_type": "code",
   "execution_count": null,
   "id": "4be785ff-76d6-4c82-a4a6-25807c08c432",
   "metadata": {},
   "outputs": [],
   "source": [
    "def get_top_n_bigram(corpus, n=None):\n",
    "    vec = CountVectorizer(ngram_range=(2, 2)).fit(corpus)\n",
    "    bag_of_words = vec.transform(corpus)\n",
    "    sum_words = bag_of_words.sum(axis=0) \n",
    "    words_freq = [(word, sum_words[0, idx]) for word, idx in vec.vocabulary_.items()]\n",
    "    words_freq =sorted(words_freq, key = lambda x: x[1], reverse=True)\n",
    "    return words_freq[:n]\n",
    "common_words = get_top_n_bigram(merged_df['overview'],20) ### Bigrams frequency distribution after removing stop words### Bigrams frequency distribution after removing stop words'], 20\n",
    "print('Top 20 bigrams in movies overview before removing stop words')\n",
    "common_words"
   ]
  },
  {
   "cell_type": "markdown",
   "id": "4585a780-1b5e-4c46-b955-eee8e5778a46",
   "metadata": {},
   "source": [
    "### Bigrams frequency distribution after removing stop words"
   ]
  },
  {
   "cell_type": "code",
   "execution_count": null,
   "id": "060b4b35-7b16-4106-a62a-28ae94a3a993",
   "metadata": {},
   "outputs": [],
   "source": [
    "def get_top_n_bigram(corpus, n=None):\n",
    "    vec = CountVectorizer(ngram_range=(2, 2), stop_words='english').fit(corpus)\n",
    "    bag_of_words = vec.transform(corpus)\n",
    "    sum_words = bag_of_words.sum(axis=0) \n",
    "    words_freq = [(word, sum_words[0, idx]) for word, idx in vec.vocabulary_.items()]\n",
    "    words_freq =sorted(words_freq, key = lambda x: x[1], reverse=True)\n",
    "    return words_freq[:n]\n",
    "common_words = get_top_n_bigram(merged_df['overview'],20)### Bigrams frequency distribution after removing stop words'], 20 = bag_of_words.sum(axis=0) \n",
    "print('Top 20 bigrams in movies overview after removing stop words')\n",
    "common_words"
   ]
  },
  {
   "cell_type": "code",
   "execution_count": null,
   "id": "b9c3eeee-9f8d-4c89-b52b-5cd306e8fabe",
   "metadata": {},
   "outputs": [],
   "source": [
    "# Allow strings to show full length and not get cut off\n",
    "pd.set_option('max_colwidth', 100)"
   ]
  },
  {
   "cell_type": "code",
   "execution_count": null,
   "id": "3c3bc44d-46bb-41eb-b278-94de958c748f",
   "metadata": {},
   "outputs": [],
   "source": [
    "def get_top_n_trigram(corpus, n=None):\n",
    "    vec = CountVectorizer(ngram_range=(3, 3), stop_words='english').fit(corpus)\n",
    "    bag_of_words = vec.transform(corpus)\n",
    "    sum_words = bag_of_words.sum(axis=0) \n",
    "    words_freq = [(word, sum_words[0, idx]) for word, idx in vec.vocabulary_.items()]\n",
    "    words_freq =sorted(words_freq, key = lambda x: x[1], reverse=True)\n",
    "    return words_freq[:n]\n",
    "common_words = get_top_n_trigram(merged_df['overview'], 20)\n",
    "print('Top 20 trigrams in movies overview after removing stop words')\n",
    "common_words### Trigrams frequency distribution after removing stop words"
   ]
  },
  {
   "cell_type": "markdown",
   "id": "4d86701e-8202-407f-bb3b-7c3785d9c6a7",
   "metadata": {},
   "source": [
    "## Preprocess Data"
   ]
  },
  {
   "cell_type": "code",
   "execution_count": null,
   "id": "a42dfce3-4e72-41c0-bf14-9396e461218f",
   "metadata": {},
   "outputs": [],
   "source": [
    "# Allow strings to show full length and not get cut off\n",
    "pd.set_option('max_colwidth', 100)"
   ]
  },
  {
   "cell_type": "code",
   "execution_count": null,
   "id": "41293624-2af8-439c-abcb-7a65df675f43",
   "metadata": {},
   "outputs": [],
   "source": [
    "# Define stop words list\n",
    "stopwords = nltk.corpus.stopwords.words('english')     # All English Stopwords\n",
    "\n",
    "# Instantiate Porter stemmer\n",
    "ps = nltk.PorterStemmer()"
   ]
  },
  {
   "cell_type": "code",
   "execution_count": null,
   "id": "a20193b6-4191-4b44-a457-0d279f1de4a2",
   "metadata": {},
   "outputs": [],
   "source": [
    "merged_df.columns"
   ]
  },
  {
   "cell_type": "code",
   "execution_count": null,
   "id": "8b27840a-b226-44e0-9813-f9f6f9cf7c64",
   "metadata": {},
   "outputs": [],
   "source": [
    "merged_df[['movie_id','original_title','overview','title_movies.df','genres_names','keywords_unpacked','title_credits.df','actors','director']]"
   ]
  },
  {
   "cell_type": "code",
   "execution_count": null,
   "id": "201f851a-dbc6-4edc-b232-d91b8fabe126",
   "metadata": {},
   "outputs": [],
   "source": [
    "# Create function to clean_text\n",
    "def clean_text(text):\n",
    "    text = \"\".join([word.lower() for word in text if word not in string.punctuation])\n",
    "    tokens = re.split('\\W+', text)\n",
    "    text = [ps.stem(word) for word in tokens if word not in stopwords]\n",
    "    text_2 = ' '.join(word for word in text)\n",
    "    return text_2"
   ]
  },
  {
   "cell_type": "code",
   "execution_count": null,
   "id": "8a05d20a-97f5-41e3-958a-6c6631f72c16",
   "metadata": {},
   "outputs": [],
   "source": [
    "# Apply clean_text function to clean movie description field\n",
    "merged_df['overview_clean'] = merged_df['overview'].apply(clean_text)\n",
    "merged_df.head()"
   ]
  },
  {
   "cell_type": "code",
   "execution_count": null,
   "id": "c94d2c16-a2c1-4bfe-acbd-00a184dd5d09",
   "metadata": {},
   "outputs": [],
   "source": [
    "merged_df['keywords_clean'] = merged_df['keywords_unpacked'].apply(clean_text)\n",
    "merged_df.head()"
   ]
  },
  {
   "cell_type": "code",
   "execution_count": null,
   "id": "cad1da09-01e2-462f-8a38-7a1b00b0826f",
   "metadata": {},
   "outputs": [],
   "source": [
    "# there are 412 movies without keywords\n",
    "merged_df[merged_df['keywords_clean'] == '']"
   ]
  },
  {
   "cell_type": "code",
   "execution_count": null,
   "id": "dd365dd1-06b5-4e79-a350-37eaa49a5f00",
   "metadata": {},
   "outputs": [],
   "source": [
    "# Create function to lookup and print hotel description by index\n",
    "def print_keywords(index):\n",
    "    example = merged_df[merged_df.index == index][['keywords_clean', 'original_title']].values[0]\n",
    "    if len(example) > 0:\n",
    "        print('Name:', example[1])\n",
    "        print('Keywords:', example[0])"
   ]
  },
  {
   "cell_type": "code",
   "execution_count": null,
   "id": "0e314ffe-c48a-498d-88fe-28a1f0cafce3",
   "metadata": {},
   "outputs": [],
   "source": [
    "print_keywords(4800)"
   ]
  },
  {
   "cell_type": "code",
   "execution_count": null,
   "id": "e1f0274e-fc5b-4a7d-a11e-ce78bf1c0b3c",
   "metadata": {},
   "outputs": [],
   "source": [
    "# Create function to lookup and print hotel description by index\n",
    "def print_description(index):\n",
    "    example = merged_df[merged_df.index == index][['overview_clean', 'original_title']].values[0]\n",
    "    if len(example) > 0:\n",
    "        print('Name:', example[1])\n",
    "        print('Description:', example[0])"
   ]
  },
  {
   "cell_type": "code",
   "execution_count": null,
   "id": "8cf33bcc-1de3-42b0-ad4f-4b5fc9b2cfac",
   "metadata": {},
   "outputs": [],
   "source": [
    "print_description(4800)"
   ]
  },
  {
   "cell_type": "code",
   "execution_count": null,
   "id": "7c49dc2d-37ff-4669-a364-a4c220405d24",
   "metadata": {},
   "outputs": [],
   "source": [
    "print_description(100)"
   ]
  },
  {
   "cell_type": "markdown",
   "id": "e0a51707-c9a2-4154-8682-ff69f7225e41",
   "metadata": {},
   "source": [
    "### Vectorization & Measuring Techniques"
   ]
  },
  {
   "cell_type": "code",
   "execution_count": null,
   "id": "d1d59c5f-71ca-4c9e-a9f4-9627f1be5c93",
   "metadata": {},
   "outputs": [],
   "source": [
    "#Import TfIdfVectorizer from scikit-learn\n",
    "from sklearn.feature_extraction.text import TfidfVectorizer\n",
    "\n",
    "#Define a TF-IDF Vectorizer Object. Remove all english stop words such as 'the', 'a'\n",
    "tfidf = TfidfVectorizer(stop_words='english')\n",
    "\n",
    "#Replace NaN with an empty string\n",
    "merged_df['overview_clean'] = merged_df['overview_clean'].fillna('')\n",
    "\n",
    "#Construct the required TF-IDF matrix by fitting and transforming the data\n",
    "tfidf_matrix = tfidf.fit_transform(merged_df['overview_clean'])\n",
    "\n",
    "#Output the shape of tfidf_matrix\n",
    "tfidf_matrix.shape"
   ]
  },
  {
   "cell_type": "code",
   "execution_count": null,
   "id": "9b76fa56-1951-44df-a092-db65d5b19fa7",
   "metadata": {},
   "outputs": [],
   "source": [
    "# Import linear_kernel\n",
    "from sklearn.metrics.pairwise import linear_kernel\n",
    "\n",
    "# Compute the cosine similarity matrix\n",
    "cosine_sim = linear_kernel(tfidf_matrix, tfidf_matrix)"
   ]
  },
  {
   "cell_type": "code",
   "execution_count": null,
   "id": "9b9ecaf2-b12f-4ec1-bdcc-b4471a437f66",
   "metadata": {},
   "outputs": [],
   "source": [
    "#Construct a reverse map of indices and movie titles\n",
    "indices = pd.Series(merged_df.index, index=merged_df['title_movies.df']).drop_duplicates()"
   ]
  },
  {
   "cell_type": "code",
   "execution_count": null,
   "id": "16695b37-45a8-45b6-a0c7-b55d19aae51c",
   "metadata": {},
   "outputs": [],
   "source": [
    "# Function that takes in movie title as input and outputs most similar movies\n",
    "def get_movie_recommendations(title, cosine_sim=cosine_sim):\n",
    "    # Get the index of the movie that matches the title\n",
    "    idx = indices[title]\n",
    "\n",
    "    # Get the pairwsie similarity scores of all movies with that movie\n",
    "    sim_scores = list(enumerate(cosine_sim[idx]))\n",
    "\n",
    "    # Sort the movies based on the similarity scores\n",
    "    sim_scores = sorted(sim_scores, key=lambda x: x[1], reverse=True)\n",
    "\n",
    "    # Get the scores of the 10 most similar movies\n",
    "    sim_scores = sim_scores[1:11]\n",
    "\n",
    "    # Get the movie indices\n",
    "    movie_indices = [i[0] for i in sim_scores]\n",
    "\n",
    "    # Return the top 10 most similar movies\n",
    "    return merged_df['title_movies.df'].iloc[movie_indices]"
   ]
  },
  {
   "cell_type": "code",
   "execution_count": null,
   "id": "dd4a73bf-d92f-4e02-af4b-3f008b62d768",
   "metadata": {},
   "outputs": [],
   "source": [
    "get_movie_recommendations('The Dark Knight Rises')"
   ]
  },
  {
   "cell_type": "code",
   "execution_count": null,
   "id": "e6cdd8d2-a04c-44bb-bb75-0b9614a3989b",
   "metadata": {},
   "outputs": [],
   "source": [
    "# Parse the stringified features into their corresponding python objects\n",
    "from ast import literal_eval\n",
    "\n",
    "features = ['character', 'director', 'keywords_clean', 'genres_names']\n",
    "for feature in features:\n",
    "    merged_df[feature] = merged_df[feature].apply(literal_eval)"
   ]
  },
  {
   "cell_type": "code",
   "execution_count": null,
   "id": "688de9fe-1bd0-460f-96e7-19123cc5cd88",
   "metadata": {},
   "outputs": [],
   "source": [
    "# Get the director's name from the crew feature. If director is not listed, return NaN\n",
    "def get_director(x):\n",
    "    for i in x:\n",
    "        if i['job'] == 'director':\n",
    "            return i['name']\n",
    "    return np.nan"
   ]
  },
  {
   "cell_type": "code",
   "execution_count": null,
   "id": "89ff2394-ea56-4589-aa3f-c2561437e90e",
   "metadata": {},
   "outputs": [],
   "source": [
    "# Returns the list top 3 elements or entire list; whichever is more.\n",
    "def get_list(x):\n",
    "    if isinstance(x, list):\n",
    "        names = [i['name'] for i in x]\n",
    "        #Check if more than 3 elements exist. If yes, return only first three. If no, return entire list.\n",
    "        if len(names) > 3:\n",
    "            names = names[:3]\n",
    "        return names\n",
    "\n",
    "    #Return empty list in case of missing/malformed data\n",
    "    return []"
   ]
  },
  {
   "cell_type": "code",
   "execution_count": null,
   "id": "1dbe944c-4743-42f7-9fbc-e720e8b1be3c",
   "metadata": {},
   "outputs": [],
   "source": [
    "# Define new director, cast, genres and keywords features that are in a suitable form.\n",
    "merged_df['director'] = merged_df['crew'].apply(get_director)\n",
    "\n",
    "features = ['cast', 'keywords', 'genres']\n",
    "for feature in features:\n",
    "    merged_df[feature] = merged_df[feature].apply(get_list)"
   ]
  },
  {
   "cell_type": "code",
   "execution_count": null,
   "id": "ac2d38b0-dc7b-481e-ae2c-d228e44f7e19",
   "metadata": {},
   "outputs": [],
   "source": [
    "# Print the new features of the first 3 films\n",
    "merged_df[['original_title', 'character', 'director', 'keywords_unpacked', 'genres_names']].head(5)"
   ]
  },
  {
   "cell_type": "code",
   "execution_count": null,
   "id": "4a9e2287-9b37-4504-9e69-00ca0eb501d2",
   "metadata": {},
   "outputs": [],
   "source": [
    "# Function to convert all strings to lower case and strip names of spaces\n",
    "def clean_data(x):\n",
    "    if isinstance(x, list):\n",
    "        return [str.lower(i.replace(\" \", \"\")) for i in x]\n",
    "    else:\n",
    "        #Check if director exists. If not, return empty string\n",
    "        if isinstance(x, str):\n",
    "            return str.lower(x.replace(\" \", \"\"))\n",
    "        else:\n",
    "            return ''"
   ]
  },
  {
   "cell_type": "code",
   "execution_count": null,
   "id": "9eba8a5a-6311-4561-a538-fe2a62c4fbc2",
   "metadata": {},
   "outputs": [],
   "source": [
    "# Apply clean_data function to your features.\n",
    "features = ['cast', 'keywords', 'director', 'genres']\n",
    "\n",
    "for feature in features:\n",
    "    merged_df[feature] = merged_df[feature].apply(clean_data)"
   ]
  },
  {
   "cell_type": "code",
   "execution_count": null,
   "id": "0883f545-96dd-48bb-b644-69caa36f4f35",
   "metadata": {},
   "outputs": [],
   "source": [
    "def create_group(x):\n",
    "   return ' '.join(x['keywords']) + ' ' + ' '.join(x['cast']) + ' ' + x['director'] + ' ' + ' '.join(x['genres'])\n",
    "merged_df['group'] = merged_df.apply(create_group, axis=1)"
   ]
  },
  {
   "cell_type": "code",
   "execution_count": null,
   "id": "6a25a389-3217-4fb3-947d-a6681663a030",
   "metadata": {},
   "outputs": [],
   "source": [
    "# Import CountVectorizer and create the count matrix\n",
    "from sklearn.feature_extraction.text import CountVectorizer\n",
    "\n",
    "count = CountVectorizer(stop_words='english')\n",
    "count_matrix = count.fit_transform(merged_df['group'])"
   ]
  },
  {
   "cell_type": "code",
   "execution_count": null,
   "id": "7cac90b5-89f3-40d2-b60c-427462fa1d29",
   "metadata": {},
   "outputs": [],
   "source": [
    "# Compute the Cosine Similarity matrix based on the count_matrix\n",
    "from sklearn.metrics.pairwise import cosine_similarity\n",
    "\n",
    "cosine_sim2 = cosine_similarity(count_matrix, count_matrix)"
   ]
  },
  {
   "cell_type": "code",
   "execution_count": null,
   "id": "481b35b4-7432-42c5-8aeb-d58f77c2a183",
   "metadata": {},
   "outputs": [],
   "source": [
    "# Reset index of our main DataFrame and construct reverse mapping as before\n",
    "merged_df = merged_df.reset_index()\n",
    "indices = pd.Series(merged_df.index, index=merged_df['original_title'])"
   ]
  },
  {
   "cell_type": "code",
   "execution_count": null,
   "id": "3c45ba95-f6ed-413f-a310-60873c6a9d72",
   "metadata": {},
   "outputs": [],
   "source": [
    "get_movie_recommendations('The Dark Knight', cosine_sim2)"
   ]
  },
  {
   "cell_type": "code",
   "execution_count": null,
   "id": "10baaaa0-ccd6-4da3-beca-d42580ea5ab5",
   "metadata": {},
   "outputs": [],
   "source": [
    "get_movie_recommendations('The Shawshank Redemption', cosine_sim2)"
   ]
  },
  {
   "cell_type": "code",
   "execution_count": null,
   "id": "11549f6a-0c93-441d-b443-ddab8728d81a",
   "metadata": {},
   "outputs": [],
   "source": [
    "get_movie_recommendations('Frozen', cosine_sim2)"
   ]
  },
  {
   "cell_type": "markdown",
   "id": "2b7d2190-b347-4965-a88b-91c827d7eaac",
   "metadata": {},
   "source": [
    "### Movie Posters"
   ]
  },
  {
   "cell_type": "code",
   "execution_count": null,
   "id": "81b4bb39-be53-4627-86a2-f222ecc7d0a2",
   "metadata": {},
   "outputs": [],
   "source": [
    "from PIL import Image\n",
    "\n",
    "# Open the JPEG image\n",
    "image1 = Image.open('dark.jpg')\n",
    "image2 = Image.open('dark.jpg')\n",
    "image3 = Image.open('Begins.jpg')\n",
    "image4 = Image.open('Begins.jpg')\n",
    "image5 = Image.open('Returns.jpg')\n",
    "image6 = Image.open('Returns.jpg')\n",
    "image7 = Image.open('JFK.jpg')\n",
    "image8 = Image.open('JFK.jpg')\n",
    "image9 = Image.open('Superman.jpg')\n",
    "image10 = Image.open('Superman.jpg')\n",
    "\n",
    "# Convert the JPEG images to RGBA mode\n",
    "image1 = image1.convert('RGBA')\n",
    "image2 = image2.convert('RGBA')\n",
    "image3 = image3.convert('RGBA')\n",
    "image4 = image4.convert('RGBA')\n",
    "image5 = image5.convert('RGBA')\n",
    "image6 = image6.convert('RGBA')\n",
    "image7 = image7.convert('RGBA')\n",
    "image8 = image8.convert('RGBA')\n",
    "image9 = image9.convert('RGBA')\n",
    "image10 = image10.convert('RGBA')\n",
    "\n",
    "# Set the size of the images\n",
    "width, height = 500, 500\n",
    "\n",
    "# Resize the images\n",
    "image1 = image1.resize((width, height))\n",
    "image2 = image2.resize((width, height))\n",
    "image3 = image3.resize((width, height))\n",
    "image4 = image4.resize((width, height))\n",
    "image5 = image5.resize((width, height))\n",
    "image6 = image6.resize((width, height))\n",
    "image7 = image7.resize((width, height))\n",
    "image8 = image8.resize((width, height))\n",
    "image9 = image9.resize((width, height))\n",
    "image10 = image10.resize((width, height))\n",
    "\n",
    "# Set the duration of each frame in the GIF (in milliseconds)\n",
    "duration = 6000\n",
    "\n",
    "# Create a list of frames for the GIF\n",
    "frames = [image1, image2]\n",
    "frames1 = [image3, image4]\n",
    "frames2 = [image5, image6]\n",
    "frames3 = [image7, image8]\n",
    "frames4 = [image9, image10]\n",
    "\n",
    "# Save the frames as a GIF\n",
    "frames[0].save('my_gif.gif', format='GIF', append_images=frames[1:], save_all=True, duration=duration, loop=0)\n",
    "frames1[0].save('my_gif1.gif', format='GIF', append_images=frames[1:], save_all=True, duration=duration, loop=0)\n",
    "frames2[0].save('my_gif2.gif', format='GIF', append_images=frames[1:], save_all=True, duration=duration, loop=0)\n",
    "frames3[0].save('my_gif3.gif', format='GIF', append_images=frames[1:], save_all=True, duration=duration, loop=0)\n",
    "frames4[0].save('my_gif4.gif', format='GIF', append_images=frames[1:], save_all=True, duration=duration, loop=0)"
   ]
  },
  {
   "cell_type": "code",
   "execution_count": null,
   "id": "aa883717-cb57-4f02-9d6d-891010f1c526",
   "metadata": {},
   "outputs": [],
   "source": [
    "from IPython.display import Image\n",
    "\n",
    "with open('my_gif.gif','rb') as f1, open('my_gif1.gif','rb') as f2, open('my_gif2.gif','rb') as f3, open('my_gif3.gif','rb') as f4, open('my_gif4.gif','rb') as f5:\n",
    "    image1 = Image(data=f1.read(), format='png')\n",
    "    image2 = Image(data=f2.read(), format='png')\n",
    "    image3 = Image(data=f3.read(), format='png')\n",
    "    image4 = Image(data=f4.read(), format='png')\n",
    "    image5 = Image(data=f5.read(), format='png')\n",
    "\n",
    "display(image1, image2, image3, image4, image5)"
   ]
  },
  {
   "cell_type": "code",
   "execution_count": null,
   "id": "d137c03a-9ed7-43e1-974d-9f98f3f16cc7",
   "metadata": {},
   "outputs": [],
   "source": [
    "from PIL import Image\n",
    "\n",
    "# Open the JPEG image\n",
    "image1 = Image.open('jungle.jpg')\n",
    "image2 = Image.open('jungle.jpg')\n",
    "image3 = Image.open('mulan.jpg')\n",
    "image4 = Image.open('mulan.jpg')\n",
    "image5 = Image.open('aladdin.jpg')\n",
    "image6 = Image.open('aladdin.jpg')\n",
    "image7 = Image.open('land.jpg')\n",
    "image8 = Image.open('land.jpg')\n",
    "image9 = Image.open('cave.jpg')\n",
    "image10 = Image.open('cave.jpg')\n",
    "\n",
    "# Convert the JPEG images to RGBA mode\n",
    "image1 = image1.convert('RGBA')\n",
    "image2 = image2.convert('RGBA')\n",
    "image3 = image3.convert('RGBA')\n",
    "image4 = image4.convert('RGBA')\n",
    "image5 = image5.convert('RGBA')\n",
    "image6 = image6.convert('RGBA')\n",
    "image7 = image7.convert('RGBA')\n",
    "image8 = image8.convert('RGBA')\n",
    "image9 = image9.convert('RGBA')\n",
    "image10 = image10.convert('RGBA')\n",
    "\n",
    "# Set the size of the images\n",
    "width, height = 500, 500\n",
    "\n",
    "# Resize the images\n",
    "image1 = image1.resize((width, height))\n",
    "image2 = image2.resize((width, height))\n",
    "image3 = image3.resize((width, height))\n",
    "image4 = image4.resize((width, height))\n",
    "image5 = image5.resize((width, height))\n",
    "image6 = image6.resize((width, height))\n",
    "image7 = image7.resize((width, height))\n",
    "image8 = image8.resize((width, height))\n",
    "image9 = image9.resize((width, height))\n",
    "image10 = image10.resize((width, height))\n",
    "\n",
    "# Set the duration of each frame in the GIF (in milliseconds)\n",
    "duration = 6000\n",
    "\n",
    "# Create a list of frames for the GIF\n",
    "frames = [image1, image2]\n",
    "frames1 = [image3, image4]\n",
    "frames2 = [image5, image6]\n",
    "frames3 = [image7, image8]\n",
    "frames4 = [image9, image10]\n",
    "\n",
    "# Save the frames as a GIF\n",
    "frames[0].save('my_gif5.gif', format='GIF', append_images=frames[1:], save_all=True, duration=duration, loop=0)\n",
    "frames1[0].save('my_gif6.gif', format='GIF', append_images=frames[1:], save_all=True, duration=duration, loop=0)\n",
    "frames2[0].save('my_gif7.gif', format='GIF', append_images=frames[1:], save_all=True, duration=duration, loop=0)\n",
    "frames3[0].save('my_gif8.gif', format='GIF', append_images=frames[1:], save_all=True, duration=duration, loop=0)\n",
    "frames4[0].save('my_gif9.gif', format='GIF', append_images=frames[1:], save_all=True, duration=duration, loop=0)"
   ]
  },
  {
   "cell_type": "code",
   "execution_count": null,
   "id": "bd17a0dc-4410-47fb-9780-003ccb58cd81",
   "metadata": {},
   "outputs": [],
   "source": [
    "from IPython.display import Image\n",
    "\n",
    "with open('my_gif5.gif','rb') as f1, open('my_gif6.gif','rb') as f2, open('my_gif7.gif','rb') as f3, open('my_gif8.gif','rb') as f4, open('my_gif9.gif','rb') as f5:\n",
    "    image1 = Image(data=f1.read(), format='png')\n",
    "    image2 = Image(data=f2.read(), format='png')\n",
    "    image3 = Image(data=f3.read(), format='png')\n",
    "    image4 = Image(data=f4.read(), format='png')\n",
    "    image5 = Image(data=f5.read(), format='png')\n",
    "\n",
    "display(image1, image2, image3, image4, image5)"
   ]
  },
  {
   "cell_type": "code",
   "execution_count": null,
   "id": "8e755e44-afb1-4178-975d-5386d9b72782",
   "metadata": {},
   "outputs": [],
   "source": []
  },
  {
   "cell_type": "code",
   "execution_count": null,
   "id": "a21dd1d5-228d-432d-b2eb-b82070fc82ea",
   "metadata": {},
   "outputs": [],
   "source": []
  },
  {
   "cell_type": "code",
   "execution_count": null,
   "id": "d14b46b8-0ad9-459d-b415-25be8d05fa4a",
   "metadata": {},
   "outputs": [],
   "source": []
  },
  {
   "cell_type": "code",
   "execution_count": null,
   "id": "d287bf78-9b09-4ba2-ad27-857d945950e1",
   "metadata": {},
   "outputs": [],
   "source": []
  },
  {
   "cell_type": "code",
   "execution_count": null,
   "id": "420fab4d-4ace-4c73-b37d-0dcf32a577b6",
   "metadata": {},
   "outputs": [],
   "source": []
  },
  {
   "cell_type": "code",
   "execution_count": null,
   "id": "0e64a351-ca15-49dc-8969-55c5bd207d1f",
   "metadata": {},
   "outputs": [],
   "source": []
  },
  {
   "cell_type": "code",
   "execution_count": null,
   "id": "f9cde5e2-5cc5-4b04-a201-8ecad4876aae",
   "metadata": {},
   "outputs": [],
   "source": []
  },
  {
   "cell_type": "code",
   "execution_count": null,
   "id": "c604f0f9-ac96-487c-9b0c-396bab2ce3c4",
   "metadata": {},
   "outputs": [],
   "source": []
  },
  {
   "cell_type": "code",
   "execution_count": null,
   "id": "2789fe48-2e98-4059-8119-36e3a1647392",
   "metadata": {},
   "outputs": [],
   "source": []
  },
  {
   "cell_type": "code",
   "execution_count": null,
   "id": "541710cb-c4bb-48a0-9ae8-e7822eb0a8cd",
   "metadata": {},
   "outputs": [],
   "source": []
  },
  {
   "cell_type": "code",
   "execution_count": null,
   "id": "ca85186d-2b5e-4e50-9b5d-54f2330ede84",
   "metadata": {},
   "outputs": [],
   "source": []
  },
  {
   "cell_type": "code",
   "execution_count": null,
   "id": "98091b59-72ae-493a-bb35-a4806c17ba9d",
   "metadata": {},
   "outputs": [],
   "source": []
  },
  {
   "cell_type": "code",
   "execution_count": null,
   "id": "8e388395-f262-4097-a5e7-525fa9b4253b",
   "metadata": {},
   "outputs": [],
   "source": []
  }
 ],
 "metadata": {
  "kernelspec": {
   "display_name": "Python 3 (ipykernel)",
   "language": "python",
   "name": "python3"
  },
  "language_info": {
   "codemirror_mode": {
    "name": "ipython",
    "version": 3
   },
   "file_extension": ".py",
   "mimetype": "text/x-python",
   "name": "python",
   "nbconvert_exporter": "python",
   "pygments_lexer": "ipython3",
   "version": "3.9.13"
  }
 },
 "nbformat": 4,
 "nbformat_minor": 5
}
